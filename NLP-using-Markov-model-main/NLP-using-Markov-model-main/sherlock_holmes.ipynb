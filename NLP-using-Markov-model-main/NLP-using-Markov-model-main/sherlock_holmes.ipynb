{
 "cells": [
  {
   "cell_type": "markdown",
   "metadata": {},
   "source": [
    "# Sherlock Holmes"
   ]
  },
  {
   "cell_type": "markdown",
   "metadata": {},
   "source": [
    "## Imports"
   ]
  },
  {
   "cell_type": "code",
   "execution_count": 1,
   "metadata": {},
   "outputs": [],
   "source": [
    "import pandas as pd\n",
    "import numpy as np\n",
    "import os\n",
    "import string\n",
    "import nltk"
   ]
  },
  {
   "cell_type": "code",
   "execution_count": 2,
   "metadata": {},
   "outputs": [],
   "source": [
    "def collect_stories(path):\n",
    "    collection= []\n",
    "    for i in os.listdir(path):\n",
    "        with open(os.path.join(path, i)) as file:\n",
    "            for line in file:\n",
    "                if line=='----------':\n",
    "                    break\n",
    "                elif (line != '') & (line != '\\n'):\n",
    "                    collection.append(line)\n",
    "    return collection"
   ]
  },
  {
   "cell_type": "code",
   "execution_count": 3,
   "metadata": {},
   "outputs": [],
   "source": [
    "stories= collect_stories('data/Arthur Conan Doyle/')"
   ]
  },
  {
   "cell_type": "code",
   "execution_count": 4,
   "metadata": {},
   "outputs": [
    {
     "data": {
      "text/plain": [
       "215701"
      ]
     },
     "execution_count": 4,
     "metadata": {},
     "output_type": "execute_result"
    }
   ],
   "source": [
    "len(stories)"
   ]
  },
  {
   "cell_type": "markdown",
   "metadata": {},
   "source": [
    "## Cleaning"
   ]
  },
  {
   "cell_type": "code",
   "execution_count": 7,
   "metadata": {},
   "outputs": [],
   "source": [
    "from utils import clean"
   ]
  },
  {
   "cell_type": "code",
   "execution_count": 8,
   "metadata": {},
   "outputs": [],
   "source": [
    "cleaned_stories = clean(stories)"
   ]
  },
  {
   "cell_type": "code",
   "execution_count": 9,
   "metadata": {},
   "outputs": [
    {
     "data": {
      "text/plain": [
       "2337745"
      ]
     },
     "execution_count": 9,
     "metadata": {},
     "output_type": "execute_result"
    }
   ],
   "source": [
    "len(cleaned_stories)"
   ]
  },
  {
   "cell_type": "markdown",
   "metadata": {},
   "source": [
    "## Creating a Morkov model"
   ]
  },
  {
   "cell_type": "code",
   "execution_count": 10,
   "metadata": {},
   "outputs": [],
   "source": [
    "from utils import MarkovModel"
   ]
  },
  {
   "cell_type": "code",
   "execution_count": 11,
   "metadata": {},
   "outputs": [
    {
     "data": {
      "text/plain": [
       "<utils.MarkovModelling.MarkovModel at 0x2916b033d30>"
      ]
     },
     "execution_count": 11,
     "metadata": {},
     "output_type": "execute_result"
    }
   ],
   "source": [
    "markov_model = MarkovModel()\n",
    "markov_model.fit_model(cleaned_stories, 2)"
   ]
  },
  {
   "cell_type": "code",
   "execution_count": 12,
   "metadata": {},
   "outputs": [
    {
     "data": {
      "text/plain": [
       "208801"
      ]
     },
     "execution_count": 12,
     "metadata": {},
     "output_type": "execute_result"
    }
   ],
   "source": [
    "markov_model.no_of_states"
   ]
  },
  {
   "cell_type": "markdown",
   "metadata": {},
   "source": [
    "#### This contains all the possible combinations of (n+1)th term and nth term, alongwith the probability of appearance of the (n+1)th term after nth term from the text provided(the stories)\n",
    "One important assumption of the Markov model is :\n",
    "- The probability that the (n+1)th step will be x, depends only on the nth step, and not the complete sequence of steps that came before that.\n",
    "\n",
    "mathematically, it can be written as:\n",
    "- P(X<sub>(n+1)</sub> = x | X<sub>(n)</sub> = x<sub>(n)</sub>)"
   ]
  },
  {
   "cell_type": "markdown",
   "metadata": {},
   "source": [
    "## Generating stories"
   ]
  },
  {
   "cell_type": "code",
   "execution_count": 17,
   "metadata": {},
   "outputs": [
    {
     "data": {
      "text/plain": [
       "['the adventure',\n",
       " 'adventure of',\n",
       " 'of the',\n",
       " 'the three',\n",
       " 'three gables',\n",
       " 'gables arthur',\n",
       " 'arthur conan',\n",
       " 'conan doyle',\n",
       " 'doyle i',\n",
       " 'i dont',\n",
       " 'dont think',\n",
       " 'think that',\n",
       " 'that any',\n",
       " 'any of',\n",
       " 'of my',\n",
       " 'my adventures',\n",
       " 'adventures with',\n",
       " 'with mr',\n",
       " 'mr sherlock',\n",
       " 'sherlock holmes',\n",
       " 'holmes opened',\n",
       " 'opened quite',\n",
       " 'quite so',\n",
       " 'so abruptly',\n",
       " 'abruptly or',\n",
       " 'or so',\n",
       " 'so dramatically',\n",
       " 'dramatically as',\n",
       " 'as that',\n",
       " 'that which',\n",
       " 'which i',\n",
       " 'i associate',\n",
       " 'associate with',\n",
       " 'with the',\n",
       " 'gables i',\n",
       " 'i had',\n",
       " 'had not',\n",
       " 'not seen',\n",
       " 'seen holmes',\n",
       " 'holmes for',\n",
       " 'for some',\n",
       " 'some days',\n",
       " 'days and',\n",
       " 'and had',\n",
       " 'had no',\n",
       " 'no idea',\n",
       " 'idea of',\n",
       " 'the new',\n",
       " 'new channel',\n",
       " 'channel into',\n",
       " 'into which',\n",
       " 'which his',\n",
       " 'his activities',\n",
       " 'activities had',\n",
       " 'had been',\n",
       " 'been directed',\n",
       " 'directed he',\n",
       " 'he was',\n",
       " 'was in',\n",
       " 'in a',\n",
       " 'a chatty',\n",
       " 'chatty mood',\n",
       " 'mood that',\n",
       " 'that morning',\n",
       " 'morning however',\n",
       " 'however and',\n",
       " 'had just',\n",
       " 'just settled',\n",
       " 'settled me',\n",
       " 'me into',\n",
       " 'into the',\n",
       " 'the low',\n",
       " 'low armchair',\n",
       " 'armchair on',\n",
       " 'on one',\n",
       " 'one side',\n",
       " 'side of',\n",
       " 'the fire',\n",
       " 'fire while',\n",
       " 'while he',\n",
       " 'he had',\n",
       " 'had curled',\n",
       " 'curled down',\n",
       " 'down with',\n",
       " 'with his',\n",
       " 'his pipe',\n",
       " 'pipe in',\n",
       " 'in his',\n",
       " 'his mouth',\n",
       " 'mouth upon',\n",
       " 'upon the',\n",
       " 'the opposite',\n",
       " 'opposite chair',\n",
       " 'chair when',\n",
       " 'when our',\n",
       " 'our visitor',\n",
       " 'visitor arrived',\n",
       " 'arrived if',\n",
       " 'if i',\n",
       " 'had said']"
      ]
     },
     "execution_count": 17,
     "metadata": {},
     "output_type": "execute_result"
    }
   ],
   "source": [
    "list(markov_model.model.keys())[0:100]"
   ]
  },
  {
   "cell_type": "markdown",
   "metadata": {},
   "source": [
    "### Due to the nature of the model, the starting string can only be one of the keys of the model"
   ]
  },
  {
   "cell_type": "code",
   "execution_count": 18,
   "metadata": {},
   "outputs": [
    {
     "data": {
      "text/plain": [
       "'so abruptly or so and yet the cottage had been the cause of my presence her appearance gave an undue share of this loot when they are not such a mistake and by the fresh information very quietly it was not likely they will soon receive a more dangerous mood but he had not got halfway to the beach as i walked down the lane where he could not face my eyes to the cousin not a word to a halt at the gate there stood a tall man about here is it scanlan looked at me with seven but of course yelled holmes in a hansom driving furiously for the brixton road there was no one at high gable rev joshua stone nether walsling this is a piteous spectacle a small trade in wax vestas some little time before and though we frequently lost sight of them out of the windows are quite sure of his guilt especially as the attempt by midday my husband and me staring at it and burst out swearing and reminded him of the whole matter out again oh it wont do my dear watson you will find tobacco in your pocket said the inspector i '"
      ]
     },
     "execution_count": 18,
     "metadata": {},
     "output_type": "execute_result"
    }
   ],
   "source": [
    "markov_model.predict('so abruptly', 100)"
   ]
  }
 ],
 "metadata": {
  "kernelspec": {
   "display_name": "Python 3",
   "language": "python",
   "name": "python3"
  },
  "language_info": {
   "codemirror_mode": {
    "name": "ipython",
    "version": 3
   },
   "file_extension": ".py",
   "mimetype": "text/x-python",
   "name": "python",
   "nbconvert_exporter": "python",
   "pygments_lexer": "ipython3",
   "version": "3.8.17"
  },
  "orig_nbformat": 4
 },
 "nbformat": 4,
 "nbformat_minor": 2
}
