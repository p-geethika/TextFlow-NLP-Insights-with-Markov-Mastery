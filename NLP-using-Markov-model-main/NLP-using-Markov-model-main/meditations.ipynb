{
 "cells": [
  {
   "cell_type": "code",
   "execution_count": 1,
   "metadata": {},
   "outputs": [],
   "source": [
    "import pandas as pd\n",
    "import numpy as np\n",
    "import os\n",
    "import string\n",
    "import nltk"
   ]
  },
  {
   "cell_type": "code",
   "execution_count": 2,
   "metadata": {},
   "outputs": [],
   "source": [
    "def collect_stories(path):\n",
    "    collection= []\n",
    "    for i in os.listdir(path):\n",
    "        with open(os.path.join(path, i)) as file:\n",
    "            for line in file:\n",
    "                if line=='----------------------------------------------------------------------':\n",
    "                    break\n",
    "                elif (line != '') & (line != '\\n'):\n",
    "                    collection.append(line)\n",
    "    return collection"
   ]
  },
  {
   "cell_type": "code",
   "execution_count": 3,
   "metadata": {},
   "outputs": [],
   "source": [
    "stories= collect_stories('data/Marcus Aurelius/')"
   ]
  },
  {
   "cell_type": "code",
   "execution_count": 4,
   "metadata": {},
   "outputs": [
    {
     "data": {
      "text/plain": [
       "3761"
      ]
     },
     "execution_count": 4,
     "metadata": {},
     "output_type": "execute_result"
    }
   ],
   "source": [
    "len(stories)"
   ]
  },
  {
   "cell_type": "code",
   "execution_count": 6,
   "metadata": {},
   "outputs": [
    {
     "name": "stderr",
     "output_type": "stream",
     "text": [
      "[nltk_data] Downloading package punkt to\n",
      "[nltk_data]     C:\\Users\\sizzl\\AppData\\Roaming\\nltk_data...\n",
      "[nltk_data]   Package punkt is already up-to-date!\n"
     ]
    }
   ],
   "source": [
    "from utils import clean"
   ]
  },
  {
   "cell_type": "code",
   "execution_count": 7,
   "metadata": {},
   "outputs": [],
   "source": [
    "cleaned_stories = clean(stories)"
   ]
  },
  {
   "cell_type": "code",
   "execution_count": 8,
   "metadata": {},
   "outputs": [
    {
     "data": {
      "text/plain": [
       "44542"
      ]
     },
     "execution_count": 8,
     "metadata": {},
     "output_type": "execute_result"
    }
   ],
   "source": [
    "len(cleaned_stories)"
   ]
  },
  {
   "cell_type": "code",
   "execution_count": 9,
   "metadata": {},
   "outputs": [],
   "source": [
    "from utils import MarkovModel"
   ]
  },
  {
   "cell_type": "code",
   "execution_count": 10,
   "metadata": {},
   "outputs": [
    {
     "data": {
      "text/plain": [
       "<utils.MarkovModelling.MarkovModel at 0x2463f88d460>"
      ]
     },
     "execution_count": 10,
     "metadata": {},
     "output_type": "execute_result"
    }
   ],
   "source": [
    "markov_model = MarkovModel()\n",
    "markov_model.fit_model(cleaned_stories, 2)"
   ]
  },
  {
   "cell_type": "code",
   "execution_count": 11,
   "metadata": {},
   "outputs": [
    {
     "data": {
      "text/plain": [
       "22132"
      ]
     },
     "execution_count": 11,
     "metadata": {},
     "output_type": "execute_result"
    }
   ],
   "source": [
    "markov_model.no_of_states"
   ]
  },
  {
   "cell_type": "markdown",
   "metadata": {},
   "source": [
    "#### This contains all the possible combinations of (n+1)th term and nth term, alongwith the probability of appearance of the (n+1)th term after nth term from the text provided(the stories)\n",
    "One important assumption of the Markov model is :\n",
    "- The probability that the (n+1)th step will be x, depends only on the nth step, and not the complete sequence of steps that came before that.\n",
    "\n",
    "mathematically, it can be written as:\n",
    "- P(X<sub>(n+1)</sub> = x | X<sub>(n)</sub> = x<sub>(n)</sub>)"
   ]
  },
  {
   "cell_type": "code",
   "execution_count": 17,
   "metadata": {},
   "outputs": [
    {
     "data": {
      "text/plain": [
       "['from my',\n",
       " 'my grandfather',\n",
       " 'grandfather verus',\n",
       " 'verus i',\n",
       " 'i learned',\n",
       " 'learned good',\n",
       " 'good morals',\n",
       " 'morals and',\n",
       " 'and the',\n",
       " 'the government',\n",
       " 'government of',\n",
       " 'of my',\n",
       " 'my temper',\n",
       " 'temper from',\n",
       " 'from the',\n",
       " 'the reputation',\n",
       " 'reputation and',\n",
       " 'and remembrance',\n",
       " 'remembrance of',\n",
       " 'my father',\n",
       " 'father modesty',\n",
       " 'modesty and',\n",
       " 'and a',\n",
       " 'a manly',\n",
       " 'manly character',\n",
       " 'character from',\n",
       " 'my mother',\n",
       " 'mother piety',\n",
       " 'piety and',\n",
       " 'and beneficence',\n",
       " 'beneficence and',\n",
       " 'and abstinence',\n",
       " 'abstinence not',\n",
       " 'not only',\n",
       " 'only from',\n",
       " 'from evil',\n",
       " 'evil deeds',\n",
       " 'deeds but',\n",
       " 'but even',\n",
       " 'even from',\n",
       " 'evil thoughts',\n",
       " 'thoughts and',\n",
       " 'and further',\n",
       " 'further simplicity',\n",
       " 'simplicity in',\n",
       " 'in my',\n",
       " 'my way',\n",
       " 'way of',\n",
       " 'of living',\n",
       " 'living far',\n",
       " 'far removed',\n",
       " 'removed from',\n",
       " 'the habits',\n",
       " 'habits of',\n",
       " 'of the',\n",
       " 'the rich',\n",
       " 'rich from',\n",
       " 'my not',\n",
       " 'not to',\n",
       " 'to have',\n",
       " 'have frequented',\n",
       " 'frequented public',\n",
       " 'public schools',\n",
       " 'schools and',\n",
       " 'and to',\n",
       " 'have had',\n",
       " 'had good',\n",
       " 'good teachers',\n",
       " 'teachers at',\n",
       " 'at home',\n",
       " 'home and',\n",
       " 'to know',\n",
       " 'know that',\n",
       " 'that on',\n",
       " 'on such',\n",
       " 'such things',\n",
       " 'things a',\n",
       " 'a man',\n",
       " 'man should',\n",
       " 'should spend',\n",
       " 'spend liberally',\n",
       " 'liberally from',\n",
       " 'my governor',\n",
       " 'governor to',\n",
       " 'to be',\n",
       " 'be neither',\n",
       " 'neither of',\n",
       " 'the green',\n",
       " 'green nor',\n",
       " 'nor of',\n",
       " 'the blue',\n",
       " 'blue party',\n",
       " 'party at',\n",
       " 'at the',\n",
       " 'the games',\n",
       " 'games in',\n",
       " 'in the',\n",
       " 'the circus',\n",
       " 'circus nor',\n",
       " 'nor a']"
      ]
     },
     "execution_count": 17,
     "metadata": {},
     "output_type": "execute_result"
    }
   ],
   "source": [
    "list(markov_model.model.keys())[0:100]"
   ]
  },
  {
   "cell_type": "code",
   "execution_count": 18,
   "metadata": {},
   "outputs": [
    {
     "data": {
      "text/plain": [
       "{'good morals': 0.1111111111111111,\n",
       " 'endurance of': 0.1111111111111111,\n",
       " 'not to': 0.1111111111111111,\n",
       " 'freedom of': 0.1111111111111111,\n",
       " 'how to': 0.1111111111111111,\n",
       " 'to observe': 0.1111111111111111,\n",
       " 'to know': 0.1111111111111111,\n",
       " 'from him': 0.1111111111111111,\n",
       " 'and not': 0.1111111111111111}"
      ]
     },
     "execution_count": 18,
     "metadata": {},
     "output_type": "execute_result"
    }
   ],
   "source": [
    "markov_model.model['i learned']"
   ]
  },
  {
   "cell_type": "markdown",
   "metadata": {},
   "source": [
    "### Due to the nature of the model, the starting string can only be one of the keys of the model"
   ]
  },
  {
   "cell_type": "code",
   "execution_count": 19,
   "metadata": {},
   "outputs": [
    {
     "data": {
      "text/plain": [
       "'i learned how to receive from friends what are esteemed favours without being either humbled by them or by flattering the populace but he is not able to produce a sympathy even in things which are of the whole body subject to change and canst thou take a survey of the nature of which there is nothing new all things disappear in the universe a cause of felicity and perfection nay even to the gods that i was never told that i received clear and frequent impressions about living according to nature and nothing at all nor to showing myself off as a man cling to a longer stay here do not permit thee then get away out of life let us then receive these things there is no man was ever injured but thou art not yet no man can escape his destiny the next place the soul does violence to itself when it does not admit it he will then consider it unworthy of thee for what hinders the mind in the same way and why were such things made in the house in my outdoor dress nor to do this consider that everything in thee something better and more '"
      ]
     },
     "execution_count": 19,
     "metadata": {},
     "output_type": "execute_result"
    }
   ],
   "source": [
    "markov_model.predict('i learned', 100)"
   ]
  },
  {
   "cell_type": "code",
   "execution_count": null,
   "metadata": {},
   "outputs": [],
   "source": []
  }
 ],
 "metadata": {
  "kernelspec": {
   "display_name": "Python 3",
   "language": "python",
   "name": "python3"
  },
  "language_info": {
   "codemirror_mode": {
    "name": "ipython",
    "version": 3
   },
   "file_extension": ".py",
   "mimetype": "text/x-python",
   "name": "python",
   "nbconvert_exporter": "python",
   "pygments_lexer": "ipython3",
   "version": "3.8.17"
  },
  "orig_nbformat": 4
 },
 "nbformat": 4,
 "nbformat_minor": 2
}
